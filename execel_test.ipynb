{
 "cells": [
  {
   "cell_type": "code",
   "execution_count": 152,
   "metadata": {},
   "outputs": [
    {
     "name": "stdout",
     "output_type": "stream",
     "text": [
      "13688\n"
     ]
    }
   ],
   "source": [
    "#coding: utf-8\n",
    "from datetime import datetime as dt\n",
    "\n",
    "lines_list = []\n",
    "for line in open('DATA.TXT'):\n",
    "    line_elem = line.split()\n",
    "    line_elem[0] = '201' + line_elem[0][1:] + ' ' + line_elem[1]\n",
    "    del line_elem[1]\n",
    "    line_elem[0] = dt.strptime(line_elem[0], '%Y-%m-%d %H:%M:%S')\n",
    "    lines_list.append(line_elem)\n",
    "print len(lines_list)"
   ]
  },
  {
   "cell_type": "code",
   "execution_count": 153,
   "metadata": {},
   "outputs": [
    {
     "name": "stdout",
     "output_type": "stream",
     "text": [
      "[datetime.datetime(2016, 1, 1, 15, 0), '18', '0', '95', '750', '528', '986']\n"
     ]
    }
   ],
   "source": []
  },
  {
   "cell_type": "code",
   "execution_count": null,
   "metadata": {},
   "outputs": [],
   "source": []
  }
 ],
 "metadata": {
  "kernelspec": {
   "display_name": "Python 2",
   "language": "python",
   "name": "python2"
  },
  "language_info": {
   "codemirror_mode": {
    "name": "ipython",
    "version": 2
   },
   "file_extension": ".py",
   "mimetype": "text/x-python",
   "name": "python",
   "nbconvert_exporter": "python",
   "pygments_lexer": "ipython2",
   "version": "2.7.13"
  }
 },
 "nbformat": 4,
 "nbformat_minor": 2
}
